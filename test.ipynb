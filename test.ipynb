{
 "cells": [
  {
   "cell_type": "markdown",
   "id": "knowing-sapphire",
   "metadata": {},
   "source": [
    "Importing open ai gym and the package"
   ]
  },
  {
   "cell_type": "code",
   "execution_count": 1,
   "id": "unique-stadium",
   "metadata": {},
   "outputs": [],
   "source": [
    "import gym\n",
    "import numpy as np\n",
    "import n_server"
   ]
  },
  {
   "cell_type": "markdown",
   "id": "radical-jefferson",
   "metadata": {},
   "source": [
    "Setting up the configuration for the environment"
   ]
  },
  {
   "cell_type": "code",
   "execution_count": 2,
   "id": "nominated-monday",
   "metadata": {},
   "outputs": [],
   "source": [
    "CONFIG = {'rho': .8, 'N': 10, 'h1': 3, 'h2': 1, 'starting_state':[0,0]}"
   ]
  },
  {
   "cell_type": "markdown",
   "id": "cutting-perry",
   "metadata": {},
   "source": [
    "Making an instance of the environment"
   ]
  },
  {
   "cell_type": "code",
   "execution_count": 3,
   "id": "listed-vermont",
   "metadata": {},
   "outputs": [],
   "source": [
    "env = gym.make('NServer-v0', config=CONFIG)"
   ]
  },
  {
   "cell_type": "code",
   "execution_count": 4,
   "id": "opposed-attraction",
   "metadata": {},
   "outputs": [
    {
     "name": "stdout",
     "output_type": "stream",
     "text": [
      "[0 0]\n",
      "MultiDiscrete([2 4])\n",
      "MultiDiscrete([11 11])\n"
     ]
    }
   ],
   "source": [
    "print(env.state)\n",
    "print(env.action_space)\n",
    "print(env.observation_space) # openAI calles states observations :/"
   ]
  },
  {
   "cell_type": "markdown",
   "id": "celtic-attraction",
   "metadata": {},
   "source": [
    "Testing the step function"
   ]
  },
  {
   "cell_type": "code",
   "execution_count": 5,
   "id": "gentle-panama",
   "metadata": {},
   "outputs": [
    {
     "name": "stdout",
     "output_type": "stream",
     "text": [
      "(array([1, 0]), 0.0, False, {})\n",
      "***\n",
      "(array([6, 3]), -4.66321243523316, False, {})\n"
     ]
    }
   ],
   "source": [
    "env.state = [0,0]\n",
    "print(env.step([0,2]))\n",
    "print('***')\n",
    "env.state = [5,3]\n",
    "print(env.step([1,2]))"
   ]
  },
  {
   "cell_type": "markdown",
   "id": "expressed-prime",
   "metadata": {},
   "source": [
    "test sample uniformly from action space at random"
   ]
  },
  {
   "cell_type": "code",
   "execution_count": 6,
   "id": "appropriate-breakfast",
   "metadata": {},
   "outputs": [
    {
     "data": {
      "text/plain": [
       "array([1, 1])"
      ]
     },
     "execution_count": 6,
     "metadata": {},
     "output_type": "execute_result"
    }
   ],
   "source": [
    "env.action_space.sample()"
   ]
  },
  {
   "cell_type": "markdown",
   "id": "adjustable-infrastructure",
   "metadata": {},
   "source": [
    "Simulating randomized policy"
   ]
  },
  {
   "cell_type": "code",
   "execution_count": 7,
   "id": "graphic-conclusion",
   "metadata": {},
   "outputs": [
    {
     "name": "stdout",
     "output_type": "stream",
     "text": [
      "-8.471217873625323\n"
     ]
    }
   ],
   "source": [
    "N = 500\n",
    "gamma = 0.9\n",
    "\n",
    "\n",
    "env.reset()\n",
    "tot_reward = 0\n",
    "for i in range(N):\n",
    "    _, reward, _, _ = env.step(env.action_space.sample())\n",
    "    tot_reward += (gamma**i)*reward\n",
    "print(tot_reward)"
   ]
  }
 ],
 "metadata": {
  "kernelspec": {
   "display_name": "Python 3",
   "language": "python",
   "name": "python3"
  },
  "language_info": {
   "codemirror_mode": {
    "name": "ipython",
    "version": 3
   },
   "file_extension": ".py",
   "mimetype": "text/x-python",
   "name": "python",
   "nbconvert_exporter": "python",
   "pygments_lexer": "ipython3",
   "version": "3.8.5"
  }
 },
 "nbformat": 4,
 "nbformat_minor": 5
}
